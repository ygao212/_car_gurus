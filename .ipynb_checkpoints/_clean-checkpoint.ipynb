{
 "cells": [
  {
   "cell_type": "code",
   "execution_count": 487,
   "metadata": {
    "collapsed": false
   },
   "outputs": [],
   "source": [
    "import pandas as pd\n",
    " \n",
    "raw_data = pd.read_csv(\"output.csv\")\n",
    "data = raw_data.iloc[0:5,:]\n",
    "data = data.drop(\"Unnamed: 0\",1)\n",
    "data\n",
    "\n",
    "def remove_dollar_and_comma(string):\n",
    "    string = string.replace(\"$\",\"\")\n",
    "    string = string.replace(\",\",\"\")\n",
    "    return string\n",
    "\n",
    "def star_counter(string):\n",
    "    num = 5 - string.count(\"star_disabled\") - 0.5 * string.count(\"star_half\")\n",
    "    return num\n",
    "\n",
    "# extract year from title\n",
    "data[\"year\"] = data[\"year\"].str[:4]\n",
    "\n",
    "# extract price\n",
    "price = data[\"price\"]\n",
    "for i in range(len(price)):\n",
    "    price[i] = price[i].split()[0]\n",
    "    price[i] = remove_dollar_and_comma(price[i])\n",
    "price = price.astype(\"int\")\n",
    "\n",
    "# extract mileage\n",
    "mileage = data[\"mileage\"]\n",
    "for i in range(len(mileage)):\n",
    "    mileage[i] = mileage[i][mileage[i].index(\" \")+1:]\n",
    "    mileage[i] = mileage[i][:mileage[i].index(\" \")]\n",
    "    mileage[i] = mileage[i].replace(\",\",\"\")\n",
    "mileage = mileage.astype(\"int\")\n",
    "\n",
    "# extract market_price\n",
    "market_price = data[\"market_price\"]\n",
    "for i in range(len(market_price)):\n",
    "    market_price[i]= market_price[i][market_price[i].index(\"$\"):] \n",
    "    market_price[i] = remove_dollar_and_comma(market_price[i])\n",
    "market_price = market_price.astype(\"int\")\n",
    "\n",
    "# extract make\n",
    "make = data[\"make\"]\n",
    "for i in range(len(make)):\n",
    "    make[i] = make[i].split()[1]\n",
    "make = make.astype(\"str\")\n",
    "\n",
    "# calculate rating\n",
    "dealer_rating = data[\"dealer_rating\"]\n",
    "for i in range(len(dealer_rating)):\n",
    "    dealer_rating[i].count(\"star\")"
   ]
  },
  {
   "cell_type": "code",
   "execution_count": 495,
   "metadata": {
    "collapsed": false
   },
   "outputs": [
    {
     "data": {
      "text/plain": [
       "2"
      ]
     },
     "execution_count": 495,
     "metadata": {},
     "output_type": "execute_result"
    }
   ],
   "source": [
    "data[\"dealer_rating\"][0].count(\"star_disabled\")"
   ]
  },
  {
   "cell_type": "code",
   "execution_count": 496,
   "metadata": {
    "collapsed": false
   },
   "outputs": [
    {
     "data": {
      "text/plain": [
       "0"
      ]
     },
     "execution_count": 496,
     "metadata": {},
     "output_type": "execute_result"
    }
   ],
   "source": [
    "data[\"dealer_rating\"][0].count(\"star_half\")"
   ]
  },
  {
   "cell_type": "code",
   "execution_count": 497,
   "metadata": {
    "collapsed": false
   },
   "outputs": [
    {
     "data": {
      "text/html": [
       "<div>\n",
       "<table border=\"1\" class=\"dataframe\">\n",
       "  <thead>\n",
       "    <tr style=\"text-align: right;\">\n",
       "      <th></th>\n",
       "      <th>address</th>\n",
       "      <th>days_listed</th>\n",
       "      <th>dealer_rating</th>\n",
       "      <th>make</th>\n",
       "      <th>market_price</th>\n",
       "      <th>mileage</th>\n",
       "      <th>price</th>\n",
       "      <th>year</th>\n",
       "    </tr>\n",
       "  </thead>\n",
       "  <tbody>\n",
       "    <tr>\n",
       "      <th>0</th>\n",
       "      <td>Woodside, NY</td>\n",
       "      <td>11 days on CarGurus</td>\n",
       "      <td>&lt;span class=\"cg-dealFinder-result-sellerRating...</td>\n",
       "      <td>Chrysler</td>\n",
       "      <td>14062</td>\n",
       "      <td>39720</td>\n",
       "      <td>9980</td>\n",
       "      <td>2015</td>\n",
       "    </tr>\n",
       "    <tr>\n",
       "      <th>1</th>\n",
       "      <td>Little Neck, NY</td>\n",
       "      <td>46 days on CarGurus</td>\n",
       "      <td>&lt;span class=\"cg-dealFinder-result-sellerRating...</td>\n",
       "      <td>Mercedes-Benz</td>\n",
       "      <td>34552</td>\n",
       "      <td>67000</td>\n",
       "      <td>27950</td>\n",
       "      <td>2012</td>\n",
       "    </tr>\n",
       "    <tr>\n",
       "      <th>2</th>\n",
       "      <td>Bronx, NY</td>\n",
       "      <td>221 days on CarGurus</td>\n",
       "      <td>&lt;span class=\"cg-dealFinder-result-sellerRating...</td>\n",
       "      <td>Nissan</td>\n",
       "      <td>13531</td>\n",
       "      <td>79692</td>\n",
       "      <td>10495</td>\n",
       "      <td>2010</td>\n",
       "    </tr>\n",
       "    <tr>\n",
       "      <th>3</th>\n",
       "      <td>Perth Amboy, NJ</td>\n",
       "      <td>5 days on CarGurus</td>\n",
       "      <td>&lt;span class=\"cg-dealFinder-result-sellerRating...</td>\n",
       "      <td>Nissan</td>\n",
       "      <td>14014</td>\n",
       "      <td>71000</td>\n",
       "      <td>9500</td>\n",
       "      <td>2008</td>\n",
       "    </tr>\n",
       "    <tr>\n",
       "      <th>4</th>\n",
       "      <td>Lodi, NJ</td>\n",
       "      <td>159 days on CarGurus</td>\n",
       "      <td>&lt;span class=\"cg-dealFinder-result-sellerRating...</td>\n",
       "      <td>Chevrolet</td>\n",
       "      <td>12093</td>\n",
       "      <td>31365</td>\n",
       "      <td>7895</td>\n",
       "      <td>2011</td>\n",
       "    </tr>\n",
       "  </tbody>\n",
       "</table>\n",
       "</div>"
      ],
      "text/plain": [
       "           address           days_listed  \\\n",
       "0     Woodside, NY   11 days on CarGurus   \n",
       "1  Little Neck, NY   46 days on CarGurus   \n",
       "2        Bronx, NY  221 days on CarGurus   \n",
       "3  Perth Amboy, NJ    5 days on CarGurus   \n",
       "4         Lodi, NJ  159 days on CarGurus   \n",
       "\n",
       "                                       dealer_rating           make  \\\n",
       "0  <span class=\"cg-dealFinder-result-sellerRating...       Chrysler   \n",
       "1  <span class=\"cg-dealFinder-result-sellerRating...  Mercedes-Benz   \n",
       "2  <span class=\"cg-dealFinder-result-sellerRating...         Nissan   \n",
       "3  <span class=\"cg-dealFinder-result-sellerRating...         Nissan   \n",
       "4  <span class=\"cg-dealFinder-result-sellerRating...      Chevrolet   \n",
       "\n",
       "  market_price mileage  price  year  \n",
       "0        14062   39720   9980  2015  \n",
       "1        34552   67000  27950  2012  \n",
       "2        13531   79692  10495  2010  \n",
       "3        14014   71000   9500  2008  \n",
       "4        12093   31365   7895  2011  "
      ]
     },
     "execution_count": 497,
     "metadata": {},
     "output_type": "execute_result"
    }
   ],
   "source": [
    "data"
   ]
  }
 ],
 "metadata": {
  "celltoolbar": "Raw Cell Format",
  "kernelspec": {
   "display_name": "Python 3",
   "language": "python",
   "name": "python3"
  },
  "language_info": {
   "codemirror_mode": {
    "name": "ipython",
    "version": 3
   },
   "file_extension": ".py",
   "mimetype": "text/x-python",
   "name": "python",
   "nbconvert_exporter": "python",
   "pygments_lexer": "ipython3",
   "version": "3.5.1"
  }
 },
 "nbformat": 4,
 "nbformat_minor": 1
}
