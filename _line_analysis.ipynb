{
 "cells": [
  {
   "cell_type": "code",
   "execution_count": 1,
   "metadata": {
    "collapsed": false
   },
   "outputs": [
    {
     "name": "stderr",
     "output_type": "stream",
     "text": [
      "c:\\nero\\python35\\lib\\site-packages\\ipykernel\\__main__.py:37: FutureWarning: sort(columns=....) is deprecated, use sort_values(by=.....)\n"
     ]
    },
    {
     "ename": "AttributeError",
     "evalue": "'Tabs' object has no attribute 'savefig'",
     "output_type": "error",
     "traceback": [
      "\u001b[0;31m---------------------------------------------------------------------------\u001b[0m",
      "\u001b[0;31mAttributeError\u001b[0m                            Traceback (most recent call last)",
      "\u001b[0;32m<ipython-input-1-b7b9b5291e88>\u001b[0m in \u001b[0;36m<module>\u001b[0;34m()\u001b[0m\n\u001b[1;32m     51\u001b[0m \u001b[0mshow\u001b[0m\u001b[1;33m(\u001b[0m\u001b[0mtabs\u001b[0m\u001b[1;33m)\u001b[0m\u001b[1;33m\u001b[0m\u001b[0m\n\u001b[1;32m     52\u001b[0m \u001b[1;33m\u001b[0m\u001b[0m\n\u001b[0;32m---> 53\u001b[0;31m \u001b[0mtabs\u001b[0m\u001b[1;33m.\u001b[0m\u001b[0msavefig\u001b[0m\u001b[1;33m(\u001b[0m\u001b[1;34m\"_charts/price_by_year_mileage\"\u001b[0m\u001b[1;33m)\u001b[0m\u001b[1;33m\u001b[0m\u001b[0m\n\u001b[0m",
      "\u001b[0;31mAttributeError\u001b[0m: 'Tabs' object has no attribute 'savefig'"
     ]
    }
   ],
   "source": [
    "\n",
    "#########################################################\n",
    "\n",
    "################# Enter Values Here #####################\n",
    "\n",
    "#########################################################\n",
    "data_name = \"new\"\n",
    "\n",
    "#########################################################\n",
    "\n",
    "\n",
    "# set mileage as x, price as y, group by make to see which \n",
    "# car make depreciate the most as their mileagei ncreases\n",
    "import pandas as pd\n",
    "from bokeh.plotting import figure, output_file, show\n",
    "from bokeh.models import HoverTool, ColumnDataSource\n",
    "from bokeh.models.widgets import Panel, Tabs\n",
    "from bokeh.charts.attributes import cat\n",
    "\n",
    "data = pd.read_csv(\"_data/_{}_clean.csv\".format(data_name))\n",
    "\n",
    "colors = ['#F0F8FF', '#FAEBD7', '#7FFFD4', '#F0FFFF', '#F5F5DC', '#FFE4C4', '#000000', '#FFEBCD', '#0000FF', '#8A2BE2', '#A52A2A', '#DEB887', '#5F9EA0', '#7FFF00', '#D2691E', '#FF7F50', '#6495ED', '#FFF8DC', '#DC143C', '#00FFFF', '#00008B', '#008B8B', '#B8860B', '#A9A9A9', '#A9A9A9', '#006400', '#BDB76B', '#8B008B', '#556B2F', '#FF8C00', '#9932CC', '#8B0000', '#E9967A', '#8FBC8F', '#483D8B', '#2F4F4F', '#2F4F4F', '#00CED1', '#9400D3', '#FF1493', '#00BFFF', '#696969', '#696969', '#1E90FF', '#B22222', '#FFFAF0', '#228B22', '#FF00FF', '#DCDCDC', '#F8F8FF', '#FFD700', '#DAA520', '#808080', '#808080', '#008000', '#ADFF2F', '#F0FFF0', '#FF69B4', '#CD5C5C', '#4B0082', '#FFFFF0', '#F0E68C', '#E6E6FA', '#FFF0F5', '#7CFC00', '#FFFACD', '#ADD8E6', '#F08080', '#E0FFFF', '#FAFAD2', '#D3D3D3', '#D3D3D3', '#90EE90', '#FFB6C1', '#FFA07A', '#20B2AA', '#87CEFA', '#778899', '#778899', '#B0C4DE', '#FFFFE0', '#00FF00', '#32CD32', '#FAF0E6', '#FF00FF', '#800000', '#66CDAA', '#0000CD', '#BA55D3', '#9370D8', '#3CB371', '#7B68EE', '#00FA9A', '#48D1CC', '#C71585', '#191970', '#F5FFFA', '#FFE4E1', '#FFE4B5', '#FFDEAD', '#000080', '#FDF5E6', '#808000', '#6B8E23', '#FFA500', '#FF4500', '#DA70D6', '#EEE8AA', '#98FB98', '#AFEEEE', '#D87093', '#FFEFD5', '#FFDAB9', '#CD853F', '#FFC0CB', '#DDA0DD', '#B0E0E6', '#800080', '#FF0000', '#BC8F8F', '#4169E1', '#8B4513', '#FA8072', '#F4A460', '#2E8B57', '#FFF5EE', '#A0522D', '#C0C0C0', '#87CEEB', '#6A5ACD', '#708090', '#708090', '#FFFAFA', '#00FF7F', '#4682B4', '#D2B48C', '#008080', '#D8BFD8', '#FF6347', '#40E0D0', '#EE82EE', '#F5DEB3', '#FFFFFF', '#F5F5F5', '#FFFF00', '#9ACD32']\n",
    "df = data.loc[:, (\"price\", \"year\", \"make\", \"mileage\", \"state\")].sort_values(\"year\", ascending=False)\n",
    "\n",
    "p1 = figure(width=1000, height=500, responsive=True, toolbar_location=\"right\")\n",
    "\n",
    "for i, num in zip(df.make.unique(), range(len(colors))):\n",
    "    cds = ColumnDataSource(df[df.make==i])\n",
    "    p1.line(df.year[df.make==i], df[df.make==i].price, color=colors[num+15], alpha=1, line_width=2, source=cds)\n",
    "    p1.scatter(df[df.make==i].year, df[df.make==i].price, color=colors[num+15], marker=\"diamond\", source=cds, size=6, alpha=0.8)\n",
    "    \n",
    "hover = HoverTool(tooltips=[(\"Make\",\"@make\"),(\"Year\",\"@year\"),(\"Price\", \"@price\")]) \n",
    "p1.add_tools(hover)\n",
    "tab1 = Panel(child=p1, title=\"Value by Year\")\n",
    "\n",
    "\n",
    "df = data.loc[:, (\"price\", \"year\", \"make\", \"mileage\", \"state\")].sort(\"mileage\", ascending=True)\n",
    "p2 = figure(width=1000, height=500, responsive=True, toolbar_location=\"right\")\n",
    "p2.xaxis[0].formatter.use_scientific = False\n",
    "\n",
    "for i, num in zip(df.make.unique(), range(len(colors))):\n",
    "    cds = ColumnDataSource(df[df.make==i])\n",
    "    p2.line(df[df.make==i].mileage, df[df.make==i].price, color=colors[num+15], alpha=1, line_width=2, source=cds)\n",
    "    p2.scatter(df[df.make==i].mileage, df[df.make==i].price, color=colors[num+15], marker=\"diamond\", source=cds, size=6, alpha=0.8)\n",
    "    \n",
    "hover = HoverTool(tooltips=[(\"Make\",\"@make\"),(\"Mileage\",\"@mileage\"),(\"Price\", \"@price\")]) \n",
    "p2.add_tools(hover)\n",
    "tab2 = Panel(child=p2, title=\"Value by Mileage\")\n",
    "\n",
    "tabs = Tabs(tabs=[ tab1, tab2 ])\n",
    "show(tabs)\n",
    "\n",
    "tabs.savefig(\"_charts/price_by_year_mileage\")"
   ]
  }
 ],
 "metadata": {
  "kernelspec": {
   "display_name": "Python 3",
   "language": "python",
   "name": "python3"
  },
  "language_info": {
   "codemirror_mode": {
    "name": "ipython",
    "version": 3
   },
   "file_extension": ".py",
   "mimetype": "text/x-python",
   "name": "python",
   "nbconvert_exporter": "python",
   "pygments_lexer": "ipython3",
   "version": "3.5.1"
  }
 },
 "nbformat": 4,
 "nbformat_minor": 1
}
